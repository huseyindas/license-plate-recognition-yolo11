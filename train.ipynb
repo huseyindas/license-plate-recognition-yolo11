{
  "cells": [
    {
      "cell_type": "code",
      "execution_count": 1,
      "metadata": {
        "id": "0M_ogZuwF1CS",
        "outputId": "3dd47675-96d5-4333-9d62-37e373c56eed",
        "colab": {
          "base_uri": "https://localhost:8080/"
        }
      },
      "outputs": [
        {
          "output_type": "stream",
          "name": "stdout",
          "text": [
            "Python 3.10.12\n"
          ]
        }
      ],
      "source": [
        "!python --version"
      ]
    },
    {
      "cell_type": "code",
      "execution_count": null,
      "metadata": {
        "id": "xCSISynNF1CT"
      },
      "outputs": [],
      "source": [
        "!pip install roboflow\n",
        "!pip install torch\n",
        "!pip install ultralytics"
      ]
    },
    {
      "cell_type": "code",
      "execution_count": null,
      "metadata": {
        "id": "QK26uHBXF1CT"
      },
      "outputs": [],
      "source": [
        "from roboflow import Roboflow\n",
        "from ultralytics import YOLO"
      ]
    },
    {
      "cell_type": "markdown",
      "source": [
        "PREAPARE DATASET"
      ],
      "metadata": {
        "id": "zPobCLmGGRLW"
      }
    },
    {
      "cell_type": "code",
      "source": [
        "rf = Roboflow(api_key=\"bhOOfKh5AAzQFAARnvqS\")\n",
        "project = rf.workspace(\"guler-kandeger\").project(\"plate-detection-vh2rk\")\n",
        "version = project.version(2)\n",
        "dataset = version.download(\"yolov11\", location=\"./datasets/detection\")\n",
        "\n",
        "rf = Roboflow(api_key=\"bhOOfKh5AAzQFAARnvqS\")\n",
        "project = rf.workspace(\"metehan-yasar\").project(\"plaka-cript\")\n",
        "version = project.version(1)\n",
        "dataset = version.download(\"yolov11\", location=\"./datasets/recognition\")"
      ],
      "metadata": {
        "id": "mYsg5Ca0GQ4T"
      },
      "execution_count": null,
      "outputs": []
    },
    {
      "cell_type": "markdown",
      "metadata": {
        "id": "Ux3ziwofF1CT"
      },
      "source": [
        "DETECTION"
      ]
    },
    {
      "cell_type": "code",
      "execution_count": null,
      "metadata": {
        "id": "fEljCA4uF1CU"
      },
      "outputs": [],
      "source": [
        "# Load a model\n",
        "model = YOLO(\"yolo11n.yaml\")  # build a new model from YAML\n",
        "model = YOLO(\"yolo11n.pt\")  # load a pretrained model (recommended for training)\n",
        "model = YOLO(\"yolo11n.yaml\").load(\"yolo11n.pt\")  # build from YAML and transfer weights\n",
        "\n",
        "# Train the model\n",
        "results = model.train(data=\"./datasets/detection/data.yaml\", epochs=3, imgsz=640, device=\"mps\")"
      ]
    },
    {
      "cell_type": "markdown",
      "metadata": {
        "id": "s-jgmn-PF1CV"
      },
      "source": [
        "RECOGNITION"
      ]
    },
    {
      "cell_type": "code",
      "execution_count": null,
      "metadata": {
        "id": "FObG2DpaF1CV"
      },
      "outputs": [],
      "source": [
        "# Load a model\n",
        "model = YOLO(\"yolo11n.yaml\")  # build a new model from YAML\n",
        "model = YOLO(\"yolo11n.pt\")  # load a pretrained model (recommended for training)\n",
        "model = YOLO(\"yolo11n.yaml\").load(\"yolo11n.pt\")  # build from YAML and transfer weights\n",
        "\n",
        "# Train the model\n",
        "results = model.train(data=\"./datasets/recognition/data.yaml\", epochs=3, imgsz=640, device=\"mps\")"
      ]
    }
  ],
  "metadata": {
    "kernelspec": {
      "display_name": "Python 3",
      "name": "python3"
    },
    "language_info": {
      "codemirror_mode": {
        "name": "ipython",
        "version": 3
      },
      "file_extension": ".py",
      "mimetype": "text/x-python",
      "name": "python",
      "nbconvert_exporter": "python",
      "pygments_lexer": "ipython3",
      "version": "3.12.8"
    },
    "colab": {
      "provenance": [],
      "gpuType": "V28"
    },
    "accelerator": "TPU"
  },
  "nbformat": 4,
  "nbformat_minor": 0
}