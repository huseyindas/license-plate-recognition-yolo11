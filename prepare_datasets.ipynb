{
 "cells": [
  {
   "cell_type": "code",
   "execution_count": null,
   "metadata": {},
   "outputs": [],
   "source": [
    "%pip install roboflow"
   ]
  },
  {
   "cell_type": "code",
   "execution_count": 1,
   "metadata": {},
   "outputs": [],
   "source": [
    "from roboflow import Roboflow"
   ]
  },
  {
   "cell_type": "code",
   "execution_count": 2,
   "metadata": {},
   "outputs": [
    {
     "name": "stdout",
     "output_type": "stream",
     "text": [
      "loading Roboflow workspace...\n",
      "loading Roboflow project...\n"
     ]
    },
    {
     "name": "stderr",
     "output_type": "stream",
     "text": [
      "Downloading Dataset Version Zip in ./datasets/detection to yolov11:: 100%|██████████| 129078/129078 [00:28<00:00, 4531.18it/s]"
     ]
    },
    {
     "name": "stdout",
     "output_type": "stream",
     "text": [
      "\n"
     ]
    },
    {
     "name": "stderr",
     "output_type": "stream",
     "text": [
      "\n",
      "Extracting Dataset Version Zip to ./datasets/detection in yolov11:: 100%|██████████| 3904/3904 [00:00<00:00, 5678.33it/s]\n"
     ]
    }
   ],
   "source": [
    "rf = Roboflow(api_key=\"bhOOfKh5AAzQFAARnvqS\")\n",
    "project = rf.workspace(\"guler-kandeger\").project(\"plate-detection-vh2rk\")\n",
    "version = project.version(2)\n",
    "dataset = version.download(\"yolov11\", location=\"./datasets/detection\")"
   ]
  },
  {
   "cell_type": "code",
   "execution_count": 3,
   "metadata": {},
   "outputs": [
    {
     "name": "stdout",
     "output_type": "stream",
     "text": [
      "loading Roboflow workspace...\n",
      "loading Roboflow project...\n"
     ]
    },
    {
     "name": "stderr",
     "output_type": "stream",
     "text": [
      "Downloading Dataset Version Zip in ./datasets/recognition to yolov11:: 100%|██████████| 20007/20007 [00:05<00:00, 3649.83it/s]"
     ]
    },
    {
     "name": "stdout",
     "output_type": "stream",
     "text": [
      "\n"
     ]
    },
    {
     "name": "stderr",
     "output_type": "stream",
     "text": [
      "\n",
      "Extracting Dataset Version Zip to ./datasets/recognition in yolov11:: 100%|██████████| 5455/5455 [00:00<00:00, 5490.71it/s]\n"
     ]
    }
   ],
   "source": [
    "rf = Roboflow(api_key=\"bhOOfKh5AAzQFAARnvqS\")\n",
    "project = rf.workspace(\"metehan-yasar\").project(\"plaka-cript\")\n",
    "version = project.version(1)\n",
    "dataset = version.download(\"yolov11\", location=\"./datasets/recognition\")"
   ]
  }
 ],
 "metadata": {
  "kernelspec": {
   "display_name": "license-plate-recognition-BX2zYcOb",
   "language": "python",
   "name": "python3"
  },
  "language_info": {
   "codemirror_mode": {
    "name": "ipython",
    "version": 3
   },
   "file_extension": ".py",
   "mimetype": "text/x-python",
   "name": "python",
   "nbconvert_exporter": "python",
   "pygments_lexer": "ipython3",
   "version": "3.13.1"
  }
 },
 "nbformat": 4,
 "nbformat_minor": 2
}
